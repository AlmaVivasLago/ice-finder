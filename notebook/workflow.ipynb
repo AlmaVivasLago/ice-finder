{
 "cells": [
  {
   "cell_type": "markdown",
   "metadata": {},
   "source": [
    "# IceFinder Tool Workflow\n",
    "\n",
    "Welcome to the Ice Finder tool tutorial.\n",
    "\n",
    "![workflow diagram](../imgs/workflow.svg)\n",
    "\n",
    "\n",
    "\n",
    "\n",
    "**Important:** Before proceeding, download the [pre-trained model weights](https://drive.google.com/file/d/1wrDRUb9blkyHka5sBio05gGvnxhCtq9D/view?usp=sharing). Place the downloaded weights in the `logs/` folder within your project directory.\n"
   ]
  },
  {
   "cell_type": "markdown",
   "metadata": {},
   "source": [
    "## Step 0: Set Working Directory\n",
    "\n",
    "Ensure you are in the correct directory.  If using a Jupyter Notebook, the default is notebooks/. \n",
    "\n",
    "Move to the project root with:"
   ]
  },
  {
   "cell_type": "code",
   "execution_count": 1,
   "metadata": {},
   "outputs": [
    {
     "name": "stdout",
     "output_type": "stream",
     "text": [
      "/ssd/homes/alma/Documents/cryo-et-ice-det-test/cryo-et-ice-det\n"
     ]
    }
   ],
   "source": [
    "%cd .."
   ]
  },
  {
   "cell_type": "markdown",
   "metadata": {},
   "source": [
    "## Step 1: Data Preparation\n",
    "\n",
    "The workflow accepts .st and .mrc files. Ensure your frames are motion-corrected and stacked.\n",
    "\n",
    "### Directory Structure\n",
    "\n",
    "Create the following structure in your project directory:\n",
    "- `data/`\n",
    "  - `selected/`: A subset for initial preprocessing and annotation.\n",
    "  - `full/`: The complete dataset for final analysis and inference.\n",
    "\n",
    "Execute the command below to set up the directories:"
   ]
  },
  {
   "cell_type": "code",
   "execution_count": 2,
   "metadata": {},
   "outputs": [],
   "source": [
    "mkdir -p data/selected data/full"
   ]
  },
  {
   "cell_type": "markdown",
   "metadata": {},
   "source": [
    "Make sure to place your tilt series files (`.st` or `.mrc`) in the appropriate folders! A single tilt series in the `selected/` folder should be enough for initial preprocessing.\n"
   ]
  },
  {
   "cell_type": "markdown",
   "metadata": {},
   "source": [
    "## Step 2: Preprocess\n",
    "\n",
    "The preprocessing step prepares your images for annotation. Micrographs will be binned, squared, and normalized. At this stage, only the files in the `data/selected/` directory will be processed.\n",
    "\n",
    "**Note**: If your images are not square, consider enabling the `--pad` option to preserve the original proportions during processing. This helps prevent distortion that might affect later analysis.\n",
    "\n",
    "Execute the command to preprocess your data:"
   ]
  },
  {
   "cell_type": "code",
   "execution_count": 3,
   "metadata": {},
   "outputs": [
    {
     "name": "stdout",
     "output_type": "stream",
     "text": [
      "100%|█████████████████████████████████████████████| 1/1 [00:01<00:00,  1.57s/it]\n"
     ]
    }
   ],
   "source": [
    "!python src/cryo_et_ice_det/tools/preprocess_dir.py "
   ]
  },
  {
   "cell_type": "markdown",
   "metadata": {},
   "source": [
    "The new images are located in `data/selected/preprocessed` as '*.tiff' files.\n",
    "\n",
    "**Note**: If the images appear blank upon inspection, do not panic. This is a typical result of the normalization process for CVAT compatibility. The images are correctly prepared and usable for subsequent steps.\n"
   ]
  },
  {
   "cell_type": "markdown",
   "metadata": {},
   "source": [
    "## Step 3: Anotate\n",
    "\n",
    "Proceed with annotation by following the steps provided in the [CVAT labeling guide](../docs/annotation-guide.pdf). This guide will assist you through the CVAT platform to annotate your data.\n",
    "\n",
    "After downloading the annotations as a ZIP file from CVAT, unzip them directly into the designated folder with the following command:"
   ]
  },
  {
   "cell_type": "code",
   "execution_count": 4,
   "metadata": {},
   "outputs": [
    {
     "name": "stdout",
     "output_type": "stream",
     "text": [
      "Archive:  ./data/selected/labels.zip\n",
      " extracting: ./data/selected/annotations/instances_default.json  \n"
     ]
    }
   ],
   "source": [
    "!unzip ./data/selected/labels.zip -d ./data/selected/"
   ]
  },
  {
   "cell_type": "markdown",
   "metadata": {},
   "source": [
    "This places the annotations into ./data/selected/annotations/instances_default.json. Ensure the ZIP file is in your current directory or modify the path to where the ZIP file is located.\n",
    "\n",
    "To reformat the labels into a more user-friendly CSV format, run the following command:\n"
   ]
  },
  {
   "cell_type": "code",
   "execution_count": 5,
   "metadata": {},
   "outputs": [
    {
     "name": "stdout",
     "output_type": "stream",
     "text": [
      "Data saved to ./data/selected/annotations/data.csv\n"
     ]
    }
   ],
   "source": [
    "!python  src/cryo_et_ice_det/tools/coco_json_to_csv.py "
   ]
  },
  {
   "cell_type": "markdown",
   "metadata": {},
   "source": [
    "## Step 4: Fine Tune\n",
    "\n",
    "For fine-tuning, the data is initially split into training and testing sets. You can adjust the number of training samples for fine-tuning with the `--num_train_samples` flag (default is 5). Run the following command to generate the split:\n"
   ]
  },
  {
   "cell_type": "code",
   "execution_count": 6,
   "metadata": {},
   "outputs": [
    {
     "name": "stdout",
     "output_type": "stream",
     "text": [
      "Split files saved to:\n",
      "  Train: /ssd/homes/alma/Documents/cryo-et-ice-det-test/cryo-et-ice-det/data/selected/annotations/train.csv\n",
      "  Test: /ssd/homes/alma/Documents/cryo-et-ice-det-test/cryo-et-ice-det/data/selected/annotations/test.csv\n"
     ]
    }
   ],
   "source": [
    "!python src/cryo_et_ice_det/utils/split_data.py"
   ]
  },
  {
   "cell_type": "markdown",
   "metadata": {},
   "source": [
    "After splitting, you may want to manually adjust the `train.csv` and `test.csv` files to optimize your dataset. While a random split can often provide robust results, you might choose to carefully select samples for the training set to improve fine-tuning or remove less relevant images from the test set for cleaner evaluations. The order on which the sample is presented also matters. If so, ensure that the training and testing datasets are mutually exclusive, meaning the intersection of the two datasets is the empty set $(\\text{Train} \\cap \\text{Test} = \\emptyset)$.\n",
    "\n",
    "Finally, we are ready to fine-tune our model through k-shot testing. Run the function below. If you prefer to use the CPU, avoid the `--device` flag. You can also adjust the number of shots via the `--shots_to_test` argument to match your specific needs:\n"
   ]
  },
  {
   "cell_type": "code",
   "execution_count": 7,
   "metadata": {},
   "outputs": [
    {
     "name": "stdout",
     "output_type": "stream",
     "text": [
      "Global seed set to 10\n",
      "Fine tunning model for 0 shot.\n",
      "Fine tunning model for 1 shot.\n",
      "Fine-tuning Progress: 100%|██████| 30/30 [00:01<00:00, 21.72it/s, Loss=0.000201]\n",
      "Fine tunning model for 2 shot.\n",
      "Fine-tuning Progress: 100%|██████| 30/30 [00:02<00:00, 12.66it/s, Loss=0.055170]\n",
      "Fine tunning model for 3 shot.\n",
      "Fine-tuning Progress: 100%|██████| 30/30 [00:03<00:00,  8.96it/s, Loss=0.042682]\n",
      "Fine tunning model for 4 shot.\n",
      "Fine-tuning Progress: 100%|██████| 30/30 [00:04<00:00,  6.70it/s, Loss=0.039794]\n",
      "Best model performance saved to: /ssd/homes/alma/Documents/cryo-et-ice-det-test/cryo-et-ice-det/k-shot-results/23-12-2024/best_f1_performance.txt\n"
     ]
    }
   ],
   "source": [
    "!python  src/cryo_et_ice_det/fine_tune_k_shots.py --device 1 --shots_to_test 0 1 2 3 4"
   ]
  },
  {
   "cell_type": "markdown",
   "metadata": {},
   "source": [
    "We will plot performance metrics to aid in selecting the best model. Run the command below to generate the performance plot:"
   ]
  },
  {
   "cell_type": "code",
   "execution_count": 8,
   "metadata": {},
   "outputs": [
    {
     "name": "stdout",
     "output_type": "stream",
     "text": [
      "Plot saved to:\n",
      "/ssd/homes/alma/Documents/cryo-et-ice-det-test/cryo-et-ice-det/k-shot-results/23-12-2024/k_shot_performance_plot_23-12-2024.png\n"
     ]
    }
   ],
   "source": [
    "!python src/cryo_et_ice_det/tools/plot_performance.py "
   ]
  },
  {
   "cell_type": "markdown",
   "metadata": {},
   "source": [
    "After running the evaluation, you may want to save output images for better intuition and rerun the script focusing on the best-performing model. Use the `--save_images` flag to visualize predictions and set `--shots_to_test` to the best shot (e.g., `--shots_to_test 2`):"
   ]
  },
  {
   "cell_type": "code",
   "execution_count": 9,
   "metadata": {},
   "outputs": [
    {
     "name": "stdout",
     "output_type": "stream",
     "text": [
      "Global seed set to 10\n",
      "Fine tunning model for 1 shot.\n",
      "Fine-tuning Progress: 100%|██████| 30/30 [00:01<00:00, 17.98it/s, Loss=0.000202]\n",
      "Best model performance saved to: /ssd/homes/alma/Documents/cryo-et-ice-det-test/cryo-et-ice-det/k-shot-results/23-12-2024/best_f1_performance.txt\n"
     ]
    }
   ],
   "source": [
    "!python src/cryo_et_ice_det/fine_tune_k_shots.py --device 1 --shots_to_test 1 --save_images"
   ]
  },
  {
   "cell_type": "markdown",
   "metadata": {},
   "source": [
    "After inspecting the images, you might gain insights and decide to hand-pick some samples to boost your metrics. If you are satisfied, congratulations! 🎉 Your baseline fine-tuning process is complete."
   ]
  },
  {
   "cell_type": "markdown",
   "metadata": {},
   "source": [
    "## Step 5: Inference\n",
    "\n",
    "Place the rest of your dataset in the data/full folder and run the preprocessing step with the following command:"
   ]
  },
  {
   "cell_type": "code",
   "execution_count": 10,
   "metadata": {},
   "outputs": [
    {
     "name": "stdout",
     "output_type": "stream",
     "text": [
      "100%|█████████████████████████████████████████████| 2/2 [00:02<00:00,  1.46s/it]\n"
     ]
    }
   ],
   "source": [
    "!python src/cryo_et_ice_det/tools/preprocess_dir.py data/full"
   ]
  },
  {
   "cell_type": "markdown",
   "metadata": {},
   "source": [
    "To run your model in inference mode, use the following command. If you have a specific GPU device available, specify it with the `--device` flag (e.g., `--device 1`).  Use the --date argument to specify the date of the experiment results (default is the current day):"
   ]
  },
  {
   "cell_type": "code",
   "execution_count": 12,
   "metadata": {},
   "outputs": [
    {
     "name": "stdout",
     "output_type": "stream",
     "text": [
      "Global seed set to 10\n",
      "Processing images: 100%|████████████████████████| 82/82 [00:01<00:00, 48.98it/s]\n",
      "Total inference time: 0.6843 s\n",
      "Average inference time per image: 8.3 ms\n",
      "Quantification results saved to: /ssd/homes/alma/Documents/cryo-et-ice-det-test/cryo-et-ice-det/inference-results/23-12-2024/quantification.csv\n",
      "Inference complete. Results are saved in: 23-12-2024\n"
     ]
    }
   ],
   "source": [
    "!python src/cryo_et_ice_det/run_inference_and_quantify.py --device 0"
   ]
  },
  {
   "cell_type": "markdown",
   "metadata": {},
   "source": [
    "Depending on the size of your dataset, you might want to export the annotations (`--export_annotations`) or save the visualized output images (`--save_images`).\n",
    "\n",
    "By default, even without these flags, the script will provide per-micrograph quantification, helping you evaluate the ice distribution and overall quality of the dataset."
   ]
  },
  {
   "cell_type": "markdown",
   "metadata": {},
   "source": [
    "## Step 6: Analyze / Quantify\n",
    "\n",
    "\n",
    "The final step of the workflow focuses on assessing vitrification quality by quantifying crystalline areas across your dataset. This phase provides global and per-tilt statistics, helping you identify problematic tilt series and isolate micrographs that meet quality thresholds through filtering."
   ]
  },
  {
   "cell_type": "code",
   "execution_count": 13,
   "metadata": {},
   "outputs": [
    {
     "name": "stdout",
     "output_type": "stream",
     "text": [
      "========================================\n",
      "Global Quantification Statistics\n",
      "----------------------------------------\n",
      "Mean: 1.23%, 95% CI: ±0.45%\n",
      "Min: 0.00%\n",
      "Max: 9.77%\n",
      "\n",
      "========================================\n",
      "Per Tilt Series Statistics\n",
      "----------------------------------------\n",
      "Tilt Series 0:\n",
      "  Mean: 1.10%, 95% CI: ±0.54%\n",
      "  Min: 0.00%\n",
      "  Max: 9.77%\n",
      "\n",
      "Tilt Series 1:\n",
      "  Mean: 1.36%, 95% CI: ±0.71%\n",
      "  Min: 0.00%\n",
      "  Max: 9.03%\n",
      "\n",
      "========================================\n",
      "Summary saved to: /ssd/homes/alma/Documents/cryo-et-ice-det-test/cryo-et-ice-det/inference-results/23-12-2024/quantification_summary.csv\n",
      "========================================\n",
      "========================================\n",
      "Filtering Threshold: 5.0%\n",
      "========================================\n",
      "Filtered Micrographs Saved To:\n",
      "/ssd/homes/alma/Documents/cryo-et-ice-det-test/cryo-et-ice-det/inference-results/23-12-2024/filtered_micrographs.csv\n",
      "----------------------------------------\n",
      "Micrographs Passing Filter: 6 / 82\n",
      "========================================\n"
     ]
    }
   ],
   "source": [
    "!python src/cryo_et_ice_det/utils/analyze_quantifications.py --filter_threshold 5"
   ]
  },
  {
   "cell_type": "markdown",
   "metadata": {},
   "source": [
    "Key outputs include:\n",
    "- Global statistics (mean, min, max, and confidence intervals)\n",
    "- Per-tilt series analysis\n",
    "- Filtered micrographs list\n",
    "\n",
    "Results are saved as `quantification_summary.csv` and `filtered_micrographs.csv` for further inspection. \n",
    "\n",
    "We hope this step empowers you to efficiently evaluate vitrification quality and gain valuable insights into your dataset."
   ]
  }
 ],
 "metadata": {
  "kernelspec": {
   "display_name": "ice-finder",
   "language": "python",
   "name": "python3"
  },
  "language_info": {
   "codemirror_mode": {
    "name": "ipython",
    "version": 3
   },
   "file_extension": ".py",
   "mimetype": "text/x-python",
   "name": "python",
   "nbconvert_exporter": "python",
   "pygments_lexer": "ipython3",
   "version": "3.10.13"
  }
 },
 "nbformat": 4,
 "nbformat_minor": 2
}
